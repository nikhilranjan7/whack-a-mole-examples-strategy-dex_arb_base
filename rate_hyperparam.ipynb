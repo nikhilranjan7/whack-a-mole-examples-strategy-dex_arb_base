{
 "cells": [
  {
   "cell_type": "code",
   "execution_count": 6,
   "metadata": {},
   "outputs": [],
   "source": [
    "import pandas as pd\n",
    "import numpy as np"
   ]
  },
  {
   "cell_type": "code",
   "execution_count": 12,
   "metadata": {},
   "outputs": [
    {
     "name": "stderr",
     "output_type": "stream",
     "text": [
      "C:\\Users\\Nikhil Ranjan\\AppData\\Local\\Temp\\ipykernel_60072\\1531440589.py:18: FutureWarning: The behavior of DataFrame concatenation with empty or all-NA entries is deprecated. In a future version, this will no longer exclude empty or all-NA columns when determining the result dtypes. To retain the old behavior, exclude the relevant entries before the concat operation.\n",
      "  results = results._append({'c': c, 'u': u, 'r': r, 'first_eq': first_eq, 'second_eq': second_eq}, ignore_index=True)\n"
     ]
    }
   ],
   "source": [
    "# Define the ranges for c, u, and r\n",
    "c_range = [round(x, 2) for x in list(np.arange(0.02, 0.37, 0.05))]\n",
    "u_range = [round(x, 2) for x in list(np.arange(0.05, 0.26, 0.05))]\n",
    "r_range = [round(x, 1) for x in list(np.arange(0.2, 1.1, 0.2))]\n",
    "\n",
    "# Create an empty DataFrame to store the results\n",
    "results = pd.DataFrame(columns=['c', 'u', 'r', 'first_eq', 'second_eq'])\n",
    "\n",
    "# Iterate over the ranges of c, u, and r\n",
    "for c in c_range:\n",
    "    for u in u_range:\n",
    "        for r in r_range:\n",
    "            # Calculate the values of first_eq and second_eq\n",
    "            first_eq = 1 + u\n",
    "            second_eq = (1 + c) * (1 + r)\n",
    "            \n",
    "            # Append the results to the DataFrame\n",
    "            results = results._append({'c': c, 'u': u, 'r': r, 'first_eq': first_eq, 'second_eq': second_eq}, ignore_index=True)\n",
    "\n",
    "# Save the DataFrame to a CSV file\n",
    "results.to_csv('results.csv', index=False)"
   ]
  },
  {
   "cell_type": "code",
   "execution_count": null,
   "metadata": {},
   "outputs": [],
   "source": []
  }
 ],
 "metadata": {
  "kernelspec": {
   "display_name": "mev",
   "language": "python",
   "name": "python3"
  },
  "language_info": {
   "codemirror_mode": {
    "name": "ipython",
    "version": 3
   },
   "file_extension": ".py",
   "mimetype": "text/x-python",
   "name": "python",
   "nbconvert_exporter": "python",
   "pygments_lexer": "ipython3",
   "version": "3.10.13"
  }
 },
 "nbformat": 4,
 "nbformat_minor": 2
}
